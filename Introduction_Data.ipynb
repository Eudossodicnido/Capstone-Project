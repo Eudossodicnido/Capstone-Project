{
 "cells": [
  {
   "cell_type": "markdown",
   "metadata": {},
   "source": [
    "## Introduction"
   ]
  },
  {
   "cell_type": "markdown",
   "metadata": {},
   "source": [
    "Birmingham is the second biggest city of the UK. It is a vibrant city with business opportunities and we want to pursue them"
   ]
  },
  {
   "cell_type": "markdown",
   "metadata": {},
   "source": [
    "## Business Problem"
   ]
  },
  {
   "cell_type": "markdown",
   "metadata": {},
   "source": [
    "Let us assume we are interested in retail, in particular, in opening an Italian restaurant in the area of Birmingham, UK.\n",
    "Therefore, we want to understand the area and which neighbourhoods would be the most attractive and interesting for this purpose."
   ]
  },
  {
   "cell_type": "markdown",
   "metadata": {},
   "source": [
    "## Data"
   ]
  },
  {
   "cell_type": "markdown",
   "metadata": {},
   "source": [
    "The data used will be:\n",
    "    - List of Birmingham areas by postcode (https://en.wikipedia.org/wiki/B_postcode_area), that we will use to gather info on the neighbourhoods\n",
    "    - Geolocations(pgeocoder,geocoder), that we will use to collect the longitude and latitued of the neighbourhoods\n",
    "    - Venues info obtained through Foursquare API, that we will use to understand the neighbourhoods and turn them \n",
    "    into clusters, according to the types of present venues, in order to see which one would the best match for our goal"
   ]
  },
  {
   "cell_type": "code",
   "execution_count": null,
   "metadata": {},
   "outputs": [],
   "source": []
  }
 ],
 "metadata": {
  "kernelspec": {
   "display_name": "Python 3",
   "language": "python",
   "name": "python3"
  },
  "language_info": {
   "codemirror_mode": {
    "name": "ipython",
    "version": 3
   },
   "file_extension": ".py",
   "mimetype": "text/x-python",
   "name": "python",
   "nbconvert_exporter": "python",
   "pygments_lexer": "ipython3",
   "version": "3.7.6"
  }
 },
 "nbformat": 4,
 "nbformat_minor": 4
}
